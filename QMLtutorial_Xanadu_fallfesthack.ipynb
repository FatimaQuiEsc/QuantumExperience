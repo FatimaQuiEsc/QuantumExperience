{
  "nbformat": 4,
  "nbformat_minor": 0,
  "metadata": {
    "colab": {
      "provenance": []
    },
    "kernelspec": {
      "name": "python3",
      "display_name": "Python 3"
    },
    "language_info": {
      "name": "python"
    }
  },
  "cells": [
    {
      "cell_type": "code",
      "source": [
        "# install the latest released version of PennyLane\n",
        "!pip install pennylane --upgrade"
      ],
      "metadata": {
        "colab": {
          "base_uri": "https://localhost:8080/"
        },
        "id": "Qo59mXolAHky",
        "outputId": "903c6e6e-c305-43d8-c342-2d61183ee52a"
      },
      "execution_count": null,
      "outputs": [
        {
          "output_type": "stream",
          "name": "stdout",
          "text": [
            "Collecting pennylane\n",
            "  Downloading PennyLane-0.33.0-py3-none-any.whl (1.5 MB)\n",
            "\u001b[2K     \u001b[90m━━━━━━━━━━━━━━━━━━━━━━━━━━━━━━━━━━━━━━━━\u001b[0m \u001b[32m1.5/1.5 MB\u001b[0m \u001b[31m18.0 MB/s\u001b[0m eta \u001b[36m0:00:00\u001b[0m\n",
            "\u001b[?25hRequirement already satisfied: numpy in /usr/local/lib/python3.10/dist-packages (from pennylane) (1.23.5)\n",
            "Requirement already satisfied: scipy in /usr/local/lib/python3.10/dist-packages (from pennylane) (1.11.3)\n",
            "Requirement already satisfied: networkx in /usr/local/lib/python3.10/dist-packages (from pennylane) (3.2)\n",
            "Collecting rustworkx (from pennylane)\n",
            "  Downloading rustworkx-0.13.2-cp310-cp310-manylinux_2_17_x86_64.manylinux2014_x86_64.whl (2.0 MB)\n",
            "\u001b[2K     \u001b[90m━━━━━━━━━━━━━━━━━━━━━━━━━━━━━━━━━━━━━━━━\u001b[0m \u001b[32m2.0/2.0 MB\u001b[0m \u001b[31m74.2 MB/s\u001b[0m eta \u001b[36m0:00:00\u001b[0m\n",
            "\u001b[?25hRequirement already satisfied: autograd in /usr/local/lib/python3.10/dist-packages (from pennylane) (1.6.2)\n",
            "Requirement already satisfied: toml in /usr/local/lib/python3.10/dist-packages (from pennylane) (0.10.2)\n",
            "Requirement already satisfied: appdirs in /usr/local/lib/python3.10/dist-packages (from pennylane) (1.4.4)\n",
            "Collecting semantic-version>=2.7 (from pennylane)\n",
            "  Downloading semantic_version-2.10.0-py2.py3-none-any.whl (15 kB)\n",
            "Collecting autoray>=0.6.1 (from pennylane)\n",
            "  Downloading autoray-0.6.7-py3-none-any.whl (49 kB)\n",
            "\u001b[2K     \u001b[90m━━━━━━━━━━━━━━━━━━━━━━━━━━━━━━━━━━━━━━━━\u001b[0m \u001b[32m49.9/49.9 kB\u001b[0m \u001b[31m5.9 MB/s\u001b[0m eta \u001b[36m0:00:00\u001b[0m\n",
            "\u001b[?25hRequirement already satisfied: cachetools in /usr/local/lib/python3.10/dist-packages (from pennylane) (5.3.2)\n",
            "Collecting pennylane-lightning>=0.33 (from pennylane)\n",
            "  Downloading PennyLane_Lightning-0.33.1-cp310-cp310-manylinux_2_17_x86_64.manylinux2014_x86_64.whl (14.0 MB)\n",
            "\u001b[2K     \u001b[90m━━━━━━━━━━━━━━━━━━━━━━━━━━━━━━━━━━━━━━━━\u001b[0m \u001b[32m14.0/14.0 MB\u001b[0m \u001b[31m87.1 MB/s\u001b[0m eta \u001b[36m0:00:00\u001b[0m\n",
            "\u001b[?25hRequirement already satisfied: requests in /usr/local/lib/python3.10/dist-packages (from pennylane) (2.31.0)\n",
            "Requirement already satisfied: typing-extensions in /usr/local/lib/python3.10/dist-packages (from pennylane) (4.5.0)\n",
            "Requirement already satisfied: future>=0.15.2 in /usr/local/lib/python3.10/dist-packages (from autograd->pennylane) (0.18.3)\n",
            "Requirement already satisfied: charset-normalizer<4,>=2 in /usr/local/lib/python3.10/dist-packages (from requests->pennylane) (3.3.1)\n",
            "Requirement already satisfied: idna<4,>=2.5 in /usr/local/lib/python3.10/dist-packages (from requests->pennylane) (3.4)\n",
            "Requirement already satisfied: urllib3<3,>=1.21.1 in /usr/local/lib/python3.10/dist-packages (from requests->pennylane) (2.0.7)\n",
            "Requirement already satisfied: certifi>=2017.4.17 in /usr/local/lib/python3.10/dist-packages (from requests->pennylane) (2023.7.22)\n",
            "Installing collected packages: semantic-version, rustworkx, autoray, pennylane-lightning, pennylane\n",
            "Successfully installed autoray-0.6.7 pennylane-0.33.0 pennylane-lightning-0.33.1 rustworkx-0.13.2 semantic-version-2.10.0\n"
          ]
        }
      ]
    },
    {
      "cell_type": "code",
      "source": [
        "import pennylane as qml\n",
        "from pennylane import numpy as np"
      ],
      "metadata": {
        "id": "T2qOB1C4ACgM"
      },
      "execution_count": null,
      "outputs": []
    },
    {
      "cell_type": "code",
      "execution_count": null,
      "metadata": {
        "id": "SnzEbfYQ_5x1"
      },
      "outputs": [],
      "source": [
        "### DO NOT CHANGE ANYTHING BELOW THIS LINE\n",
        "\n",
        "\n",
        "\n",
        "WIRES = 2\n",
        "LAYERS = 5\n",
        "NUM_PARAMETERS = LAYERS * WIRES * 3\n",
        "\n",
        "def variational_circuit(params,hamiltonian):\n",
        "    \"\"\"\n",
        "    This is a template variational quantum circuit containing a fixed layout of gates with variable\n",
        "    parameters. To be used as a QNode, it must either be wrapped with the @qml.qnode decorator or\n",
        "    converted using the qml.QNode function.\n",
        "\n",
        "    The output of this circuit is the expectation value of a Hamiltonian, somehow encoded in\n",
        "    the hamiltonian argument\n",
        "\n",
        "    Args:\n",
        "        - params (np.ndarray): An array of optimizable parameters of shape (30,)\n",
        "        - hamiltonian (np.ndarray): An array of real parameters encoding the Hamiltonian\n",
        "        whose expectation value is returned.\n",
        "\n",
        "    Returns:\n",
        "        (float): The expectation value of the Hamiltonian\n",
        "    \"\"\"\n",
        "    parameters = params.reshape((LAYERS, WIRES, 3))\n",
        "    qml.templates.StronglyEntanglingLayers(parameters, wires=range(WIRES))\n",
        "    return qml.expval(qml.Hermitian(hamiltonian, wires = [0,1]))\n",
        "\n",
        "def optimize_circuit(hamiltonian):\n",
        "    \"\"\"Minimize the variational circuit and return its minimum value.\n",
        "    You should create a device and convert the variational_circuit function\n",
        "    into an executable QNode.\n",
        "    Next, you should minimize the variational circuit using gradient-based\n",
        "    optimization to update the input params.\n",
        "    Return the optimized value of the QNode as a single floating-point number.\n",
        "\n",
        "    Args:\n",
        "        - params (np.ndarray): Input parameters to be optimized, of dimension 30\n",
        "        - hamiltonian (np.ndarray): An array of real parameters encoding the Hamiltonian\n",
        "        whose expectation value you should minimize.\n",
        "    Returns:\n",
        "        float: the value of the optimized QNode\n",
        "    \"\"\"\n",
        "\n",
        "    hamiltonian = np.array(hamiltonian, requires_grad = False)\n",
        "\n",
        "    hamiltonian = np.array(hamiltonian,float).reshape((2 ** WIRES), (2 ** WIRES))\n",
        "\n",
        "    ### WRITE YOUR CODE BELOW THIS LINE\n",
        "\n",
        "    ### Solution Template\n",
        "\n",
        "    #____dev = # Initialize the device.\n",
        "\n",
        "    #create a device with ### quibits\n",
        "    dev = qml.device('lightning.qubit', WIRES)\n",
        "\n",
        "    #____circuit = # Instantiate the QNode from variational_circuit.\n",
        "\n",
        "    #create a QNode with ### entangled qubits\n",
        "    @qml.qnode(dev)\n",
        "    def circuit():\n",
        "      #creamos el entrelazamiento CAMBIAAAAAAR\n",
        "      qml.Hadamard(wires=0)\n",
        "      qml.CNOT(wires=[0,1])\n",
        "      return qml.probs()\n",
        "\n",
        "    # Write your code to minimize the circuit\n",
        "\n",
        "    return # Return the value of the minimized QNode\n"
      ]
    },
    {
      "cell_type": "code",
      "source": [
        "paramsss = [0.863327072347624,0.0167108057202516,0.07991447085492759,0.0854049026262154,0.0167108057202516,0.8237963773906136,-0.07695947154193797,0.03131548733285282,0.07991447085492759,-0.07695947154193795,0.8355417021014687,-0.11345916130631205,0.08540490262621539,0.03131548733285283,-0.11345916130631205,0.758156886827099]"
      ],
      "metadata": {
        "id": "HjBd8FKXxssD"
      },
      "execution_count": null,
      "outputs": []
    },
    {
      "cell_type": "code",
      "source": [
        "#qml.draw_mpl(variational_circuit(params,hamiltonian))()"
      ],
      "metadata": {
        "id": "FNBhIrxUxcr7"
      },
      "execution_count": null,
      "outputs": []
    },
    {
      "cell_type": "code",
      "source": [
        "#create a device with 2 quibits\n",
        "dev = qml.device('lightning.qubit', wires=2)"
      ],
      "metadata": {
        "id": "7rf37HO2v1aA"
      },
      "execution_count": null,
      "outputs": []
    },
    {
      "cell_type": "code",
      "source": [
        "#create a QNode with 2 entangled qubits\n",
        "@qml.qnode(dev)\n",
        "def circuit():\n",
        "  #creamos el entrelazamiento\n",
        "  qml.Hadamard(wires=0)\n",
        "  qml.CNOT(wires=[0,1])\n",
        "  return qml.probs()"
      ],
      "metadata": {
        "id": "nLomNPYUwVYa"
      },
      "execution_count": null,
      "outputs": []
    },
    {
      "cell_type": "code",
      "source": [
        "#Draw circuit\n",
        "#No se le pone parametros a \"circuit\" porque en def aun no se asigna\n",
        "qml.draw_mpl(circuit)()"
      ],
      "metadata": {
        "colab": {
          "base_uri": "https://localhost:8080/",
          "height": 354
        },
        "id": "-tQfYlEXxHOP",
        "outputId": "5b575c81-d6a7-4f53-a3d3-27a73f289bb3"
      },
      "execution_count": null,
      "outputs": [
        {
          "output_type": "execute_result",
          "data": {
            "text/plain": [
              "(<Figure size 500x300 with 1 Axes>, <Axes: >)"
            ]
          },
          "metadata": {},
          "execution_count": 9
        },
        {
          "output_type": "display_data",
          "data": {
            "text/plain": [
              "<Figure size 500x300 with 1 Axes>"
            ],
            "image/png": "[encoded data removed]"
          },
          "metadata": {}
        }
      ]
    },
    {
      "cell_type": "code",
      "source": [
        "#Run your circuit\n",
        "circuit()\n",
        "#En el caso de tener parametros por default seran entrenables"
      ],
      "metadata": {
        "colab": {
          "base_uri": "https://localhost:8080/"
        },
        "id": "0J1w6vPtx4E-",
        "outputId": "0e5facde-ffde-4fa2-d01a-0af0fd0fff5f"
      },
      "execution_count": null,
      "outputs": [
        {
          "output_type": "execute_result",
          "data": {
            "text/plain": [
              "tensor([0.5, 0. , 0. , 0.5], requires_grad=True)"
            ]
          },
          "metadata": {},
          "execution_count": 10
        }
      ]
    },
    {
      "cell_type": "markdown",
      "source": [
        "##Create a parametrized (variational) circuit with 1 qubit"
      ],
      "metadata": {
        "id": "iohJh-1VztJs"
      }
    },
    {
      "cell_type": "code",
      "source": [
        "#Create a divece with 1 qubit\n",
        "dev2 = qml.device('default.qubit', wires=1)"
      ],
      "metadata": {
        "id": "W3ldZON4zsny"
      },
      "execution_count": null,
      "outputs": []
    },
    {
      "cell_type": "code",
      "source": [
        "# Create a parametrized circuit\n",
        "@qml.qnode(dev2)\n",
        "def circuit2(params):\n",
        "    #creamos el entrelazamiento\n",
        "    qml.RX(params=[0], wires=0)\n",
        "    qml.RY(params=[1], wires=0)\n",
        "  # Podemos medir en diferentes direcciones. En este caso medimos un valor de expectacion (expval) en el eje Z\n",
        "    return qml.expval(qml.PauliZ(0))"
      ],
      "metadata": {
        "id": "QF1CYeI_0Jt-"
      },
      "execution_count": null,
      "outputs": []
    },
    {
      "cell_type": "code",
      "source": [
        "#Draw circuit\n",
        "qml.draw_mpl(circuit2)([0.1,0.2])"
      ],
      "metadata": {
        "colab": {
          "base_uri": "https://localhost:8080/",
          "height": 355
        },
        "id": "x34VhKAd08GE",
        "outputId": "9fe098af-cca8-4adb-93b5-5985e013f71e"
      },
      "execution_count": null,
      "outputs": [
        {
          "output_type": "error",
          "ename": "TypeError",
          "evalue": "ignored",
          "traceback": [
            "\u001b[0;31m---------------------------------------------------------------------------\u001b[0m",
            "\u001b[0;31mTypeError\u001b[0m                                 Traceback (most recent call last)",
            "\u001b[0;32m<ipython-input-13-d53e64cea3b4>\u001b[0m in \u001b[0;36m<cell line: 2>\u001b[0;34m()\u001b[0m\n\u001b[1;32m      1\u001b[0m \u001b[0;31m#Draw circuit\u001b[0m\u001b[0;34m\u001b[0m\u001b[0;34m\u001b[0m\u001b[0m\n\u001b[0;32m----> 2\u001b[0;31m \u001b[0mqml\u001b[0m\u001b[0;34m.\u001b[0m\u001b[0mdraw_mpl\u001b[0m\u001b[0;34m(\u001b[0m\u001b[0mcircuit2\u001b[0m\u001b[0;34m)\u001b[0m\u001b[0;34m(\u001b[0m\u001b[0;34m[\u001b[0m\u001b[0;36m0.1\u001b[0m\u001b[0;34m,\u001b[0m\u001b[0;36m0.2\u001b[0m\u001b[0;34m]\u001b[0m\u001b[0;34m)\u001b[0m\u001b[0;34m\u001b[0m\u001b[0;34m\u001b[0m\u001b[0m\n\u001b[0m",
            "\u001b[0;32m/usr/local/lib/python3.10/dist-packages/pennylane/drawer/draw.py\u001b[0m in \u001b[0;36mwrapper\u001b[0;34m(*args, **kwargs_qnode)\u001b[0m\n\u001b[1;32m    577\u001b[0m             \u001b[0;32mtry\u001b[0m\u001b[0;34m:\u001b[0m\u001b[0;34m\u001b[0m\u001b[0;34m\u001b[0m\u001b[0m\n\u001b[1;32m    578\u001b[0m                 \u001b[0mqnode\u001b[0m\u001b[0;34m.\u001b[0m\u001b[0mexpansion_strategy\u001b[0m \u001b[0;34m=\u001b[0m \u001b[0mexpansion_strategy\u001b[0m \u001b[0;32mor\u001b[0m \u001b[0moriginal_expansion_strategy\u001b[0m\u001b[0;34m\u001b[0m\u001b[0;34m\u001b[0m\u001b[0m\n\u001b[0;32m--> 579\u001b[0;31m                 \u001b[0mqnode\u001b[0m\u001b[0;34m.\u001b[0m\u001b[0mconstruct\u001b[0m\u001b[0;34m(\u001b[0m\u001b[0margs\u001b[0m\u001b[0;34m,\u001b[0m \u001b[0mkwargs_qnode\u001b[0m\u001b[0;34m)\u001b[0m\u001b[0;34m\u001b[0m\u001b[0;34m\u001b[0m\u001b[0m\n\u001b[0m\u001b[1;32m    580\u001b[0m                 \u001b[0;32mif\u001b[0m \u001b[0misinstance\u001b[0m\u001b[0;34m(\u001b[0m\u001b[0mqnode\u001b[0m\u001b[0;34m.\u001b[0m\u001b[0mdevice\u001b[0m\u001b[0;34m,\u001b[0m \u001b[0mqml\u001b[0m\u001b[0;34m.\u001b[0m\u001b[0mdevices\u001b[0m\u001b[0;34m.\u001b[0m\u001b[0mDevice\u001b[0m\u001b[0;34m)\u001b[0m\u001b[0;34m:\u001b[0m\u001b[0;34m\u001b[0m\u001b[0;34m\u001b[0m\u001b[0m\n\u001b[1;32m    581\u001b[0m                     \u001b[0mprogram\u001b[0m \u001b[0;34m=\u001b[0m \u001b[0mqnode\u001b[0m\u001b[0;34m.\u001b[0m\u001b[0mtransform_program\u001b[0m\u001b[0;34m\u001b[0m\u001b[0;34m\u001b[0m\u001b[0m\n",
            "\u001b[0;32m/usr/local/lib/python3.10/dist-packages/pennylane/qnode.py\u001b[0m in \u001b[0;36mconstruct\u001b[0;34m(self, args, kwargs)\u001b[0m\n\u001b[1;32m    854\u001b[0m \u001b[0;34m\u001b[0m\u001b[0m\n\u001b[1;32m    855\u001b[0m         \u001b[0;32mwith\u001b[0m \u001b[0mqml\u001b[0m\u001b[0;34m.\u001b[0m\u001b[0mqueuing\u001b[0m\u001b[0;34m.\u001b[0m\u001b[0mAnnotatedQueue\u001b[0m\u001b[0;34m(\u001b[0m\u001b[0;34m)\u001b[0m \u001b[0;32mas\u001b[0m \u001b[0mq\u001b[0m\u001b[0;34m:\u001b[0m\u001b[0;34m\u001b[0m\u001b[0;34m\u001b[0m\u001b[0m\n\u001b[0;32m--> 856\u001b[0;31m             \u001b[0mself\u001b[0m\u001b[0;34m.\u001b[0m\u001b[0m_qfunc_output\u001b[0m \u001b[0;34m=\u001b[0m \u001b[0mself\u001b[0m\u001b[0;34m.\u001b[0m\u001b[0mfunc\u001b[0m\u001b[0;34m(\u001b[0m\u001b[0;34m*\u001b[0m\u001b[0margs\u001b[0m\u001b[0;34m,\u001b[0m \u001b[0;34m**\u001b[0m\u001b[0mkwargs\u001b[0m\u001b[0;34m)\u001b[0m\u001b[0;34m\u001b[0m\u001b[0;34m\u001b[0m\u001b[0m\n\u001b[0m\u001b[1;32m    857\u001b[0m \u001b[0;34m\u001b[0m\u001b[0m\n\u001b[1;32m    858\u001b[0m         \u001b[0mself\u001b[0m\u001b[0;34m.\u001b[0m\u001b[0m_tape\u001b[0m \u001b[0;34m=\u001b[0m \u001b[0mQuantumScript\u001b[0m\u001b[0;34m.\u001b[0m\u001b[0mfrom_queue\u001b[0m\u001b[0;34m(\u001b[0m\u001b[0mq\u001b[0m\u001b[0;34m,\u001b[0m \u001b[0mshots\u001b[0m\u001b[0;34m)\u001b[0m\u001b[0;34m\u001b[0m\u001b[0;34m\u001b[0m\u001b[0m\n",
            "\u001b[0;32m<ipython-input-12-8e3fc3c054d1>\u001b[0m in \u001b[0;36mcircuit2\u001b[0;34m(params)\u001b[0m\n\u001b[1;32m      3\u001b[0m \u001b[0;32mdef\u001b[0m \u001b[0mcircuit2\u001b[0m\u001b[0;34m(\u001b[0m\u001b[0mparams\u001b[0m\u001b[0;34m)\u001b[0m\u001b[0;34m:\u001b[0m\u001b[0;34m\u001b[0m\u001b[0;34m\u001b[0m\u001b[0m\n\u001b[1;32m      4\u001b[0m     \u001b[0;31m#creamos el entrelazamiento\u001b[0m\u001b[0;34m\u001b[0m\u001b[0;34m\u001b[0m\u001b[0m\n\u001b[0;32m----> 5\u001b[0;31m     \u001b[0mqml\u001b[0m\u001b[0;34m.\u001b[0m\u001b[0mRX\u001b[0m\u001b[0;34m(\u001b[0m\u001b[0mparams\u001b[0m\u001b[0;34m=\u001b[0m\u001b[0;34m[\u001b[0m\u001b[0;36m0\u001b[0m\u001b[0;34m]\u001b[0m\u001b[0;34m,\u001b[0m \u001b[0mwires\u001b[0m\u001b[0;34m=\u001b[0m\u001b[0;36m0\u001b[0m\u001b[0;34m)\u001b[0m\u001b[0;34m\u001b[0m\u001b[0;34m\u001b[0m\u001b[0m\n\u001b[0m\u001b[1;32m      6\u001b[0m     \u001b[0mqml\u001b[0m\u001b[0;34m.\u001b[0m\u001b[0mRY\u001b[0m\u001b[0;34m(\u001b[0m\u001b[0mparams\u001b[0m\u001b[0;34m=\u001b[0m\u001b[0;34m[\u001b[0m\u001b[0;36m1\u001b[0m\u001b[0;34m]\u001b[0m\u001b[0;34m,\u001b[0m \u001b[0mwires\u001b[0m\u001b[0;34m=\u001b[0m\u001b[0;36m0\u001b[0m\u001b[0;34m)\u001b[0m\u001b[0;34m\u001b[0m\u001b[0;34m\u001b[0m\u001b[0m\n\u001b[1;32m      7\u001b[0m   \u001b[0;31m# Podemos medir en diferentes direcciones. En este caso medimos un valor de expectacion (expval) en el eje Z\u001b[0m\u001b[0;34m\u001b[0m\u001b[0;34m\u001b[0m\u001b[0m\n",
            "\u001b[0;31mTypeError\u001b[0m: RX.__init__() got an unexpected keyword argument 'params'"
          ]
        }
      ]
    },
    {
      "cell_type": "code",
      "source": [],
      "metadata": {
        "id": "DpHs95LIU7k_"
      },
      "execution_count": null,
      "outputs": []
    }
  ]
}